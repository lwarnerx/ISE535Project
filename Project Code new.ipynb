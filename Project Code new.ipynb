{
 "cells": [
  {
   "cell_type": "code",
   "execution_count": 27,
   "id": "442cf043",
   "metadata": {},
   "outputs": [
    {
     "name": "stdout",
     "output_type": "stream",
     "text": [
      "Note: you may need to restart the kernel to use updated packages.\n"
     ]
    },
    {
     "name": "stderr",
     "output_type": "stream",
     "text": [
      "ERROR: Invalid requirement: '#widget'\n"
     ]
    }
   ],
   "source": [
    "pip install interactivecrop \n",
    "# widget to crop images for data analysis"
   ]
  },
  {
   "cell_type": "code",
   "execution_count": 2,
   "id": "0ce33408",
   "metadata": {},
   "outputs": [],
   "source": [
    "from interactivecrop.interactivecrop import main as crop #import the interactivecrop widget for use"
   ]
  },
  {
   "cell_type": "code",
   "execution_count": 2,
   "id": "363a02bd",
   "metadata": {},
   "outputs": [
    {
     "name": "stdout",
     "output_type": "stream",
     "text": [
      "Note: you may need to restart the kernel to use updated packages.\n"
     ]
    },
    {
     "name": "stderr",
     "output_type": "stream",
     "text": [
      "ERROR: Invalid requirement: '#install'\n"
     ]
    }
   ],
   "source": [
    "pip install opencv-python \n",
    "# install openCV for use in the widget as well as later use"
   ]
  },
  {
   "cell_type": "code",
   "execution_count": 3,
   "id": "30341e71",
   "metadata": {},
   "outputs": [],
   "source": [
    "#load in the images and their names to crop each individual image\n",
    "import os\n",
    "\n",
    "#create the path to the folder with the images that need cropped\n",
    "path = r'images_to_crop\\\\'\n",
    "\n",
    "image_list = []\n",
    "image_name_list = []\n",
    "\n",
    "#filter through the folder to find all the files and their names\n",
    "for root, dirs, files in os.walk(path):\n",
    "    for fileName in files:\n",
    "        image_list.append(\"./images_to_crop/\"+fileName)\n",
    "        name = fileName.split('.')\n",
    "        name = name[0]\n",
    "        image_name_list.append(name)"
   ]
  },
  {
   "cell_type": "code",
   "execution_count": 4,
   "id": "617725b1",
   "metadata": {},
   "outputs": [
    {
     "data": {
      "application/vnd.jupyter.widget-view+json": {
       "model_id": "6f3259c47da84dedb90c07a9e7321597",
       "version_major": 2,
       "version_minor": 0
      },
      "text/plain": [
       "GridBox(children=(Dropdown(description='Img Name:', layout=Layout(grid_area='im_selector', width='100%'), opti…"
      ]
     },
     "metadata": {},
     "output_type": "display_data"
    }
   ],
   "source": [
    "from PIL import Image, ImageDraw, ImageFont #import functions from the \"python imaging library\"\n",
    "\n",
    "# Define the callback to save the image from the crop tool\n",
    "def callback(image_name, im):\n",
    "    PIL_im = im.image # Access the PIL image from the 'shape' object\n",
    "    size = im.get_size() #finds the size of the crop to use for cropping the image\n",
    "    #im has a rectangle class, so get_size() is needed to output 4 dimensions of the rectangle\n",
    "    x0 = size[0] #the first two outputs are the corner of the rectangle\n",
    "    y0 = size[1]\n",
    "    x1 = size[2] #the next two dimensions are the change in width and height\n",
    "    y1 = size[3]\n",
    "    cropImage = PIL_im.crop((x0,y0,x1+x0,y1+y0)) #uses crop to crop the images using the PIL\n",
    "    cropImage.save('./cropped_images/'+image_name+'_cropped.jpg') #saves the image with _cropped to denote the change and saves it to a new folder with all the cropped images\n",
    "    \n",
    "#calls the interactive crop tool to crop the images and denotes the callback function to also save the image\n",
    "# this function works for a list of images\n",
    "crop(image_list, image_name_list=image_name_list, callback=callback, crop_shape = 'Rectangle')\n",
    "\n",
    "# Brief description of how function works:\n",
    "    # Function creates slider widget that creates an interactive rectangle that adjusts with the slider. The area inside the\n",
    "    # triangle will then be the area cropped in the saved image\n",
    "    \n",
    "    # Save crop sizes must be selected once you are happy with the rectangle (keep small for better accuracy),\n",
    "    # the function will output the saved images once all the cropped boxes have been selected and saved"
   ]
  },
  {
   "cell_type": "code",
   "execution_count": 4,
   "id": "47f50a8e",
   "metadata": {},
   "outputs": [],
   "source": [
    "# import all the needed functions for the next steps\n",
    "\n",
    "from skimage.transform import (hough_line, hough_line_peaks)\n",
    "import numpy as np\n",
    "import cv2\n",
    "from statistics import mean\n",
    "import re"
   ]
  },
  {
   "cell_type": "code",
   "execution_count": 5,
   "id": "224503f1",
   "metadata": {},
   "outputs": [],
   "source": [
    "path = r'cropped_images\\\\' #create the path to find the files and initiate lists\n",
    "crop_image_list = []\n",
    "crop_names = []\n",
    "\n",
    "for root, dirs, files in os.walk(path):\n",
    "    for fileName in files:\n",
    "        crop_image_list.append(\"./cropped_images/\"+fileName) #create the image list for filtering through cropped images\n",
    "        name = fileName.split('.')\n",
    "        val = name[0].split('_')\n",
    "        crop_names.append(val[0]+'_'+val[1]) #for later printing, don't want the _cropped added b/c unneccessary"
   ]
  },
  {
   "cell_type": "code",
   "execution_count": 27,
   "id": "19d00e1d",
   "metadata": {},
   "outputs": [],
   "source": [
    "braidAngles = [] #initialize the list for braid angles\n",
    "braidAnglesVert = []\n",
    "\n",
    "for croppedImage in crop_image_list: #go through all the files in the list to find braid angles\n",
    "    \n",
    "    img_gray = cv2.imread(croppedImage) #image is already grayscale, read into python with open cv\n",
    "    img_blur = cv2.GaussianBlur(img_gray, (3,3), 0) #perform a gaussian blur to help for edge detection, this smooths the edges\n",
    "    \n",
    "    # Sobel Edge Detection\n",
    "    # sobel edge detection uses a 2D derivative mask to detect the edges in an image, both vertical and horizontal masks are used\n",
    "    # for the purposes of better identitfying the angles, ddepth is the desired depth of the destination image.\n",
    "\n",
    "    sobelxy = cv2.Sobel(src=img_blur, ddepth=cv2.CV_64F, dx=1, dy=1, ksize=5) # Combined X and Y Sobel Edge Detection\n",
    "    \n",
    "    # Compute arithmetic mean for the hough transformation\n",
    "    image = np.mean(sobelxy, axis=2)\n",
    "\n",
    "    # Perform Hough Transformation to detect lines\n",
    "    hspace, angles, distances = hough_line(image) #hough transform can be used to detect straight lines and their angles\n",
    "    #transforms into polar coordinates with a rho and a theta\n",
    "\n",
    "    # Find angle using a function that identifies peaks in the hough transform, finds prominent lines and saves the angles\n",
    "    angle=[]\n",
    "    for _, a , dist in zip(*hough_line_peaks(hspace, angles, distances)):\n",
    "        angle.append(a)\n",
    "\n",
    "    # Obtain angle in degrees for each line\n",
    "    angles = [a*180/np.pi for a in angle]\n",
    "    \n",
    "    #change negative angle outputs to their positive counterpart, angles measured from counterclockwise between -90 and 90\n",
    "    angles = [a if (a > 0) else (180 + a) for a in angles]\n",
    "\n",
    "    \n",
    "    # from prior measurements, it is known that the maximum braid angle is less than 65degrees and the minimum braid \n",
    "    # angle is more than 15 degrees, this allows for the creation of the bounds that no angle should be within 15 degrees of 90,\n",
    "    # and no angle should be within 25 degrees of 0 or 180\n",
    "\n",
    "    # we follow this for the further filtration of the angle outputs, knowing all the images are in the same orientation\n",
    "\n",
    "    angles = [a for a in angles if (a > (90+15) or a < (90-15))] #filters out angles close to 90 for min braid angle\n",
    "    angles = [a for a in angles if (a < (180-25) and a > (0+25))] #filters out angles close to 0 or 180 for max braid angle\n",
    "\n",
    "    angRight = [a for a in angles if a < 90] #collects all the angles on the \"right side\"\n",
    "    angLeft = [a for a in angles if a > 90] #collects all the angles on the \"left side\"\n",
    "\n",
    "    # creates a list of all the angles between all the lines on the right side and all the lines on the left side to find a list of all\n",
    "    # possible angles, the braid angle is half the value\n",
    "    braidAngle = []\n",
    "    for val in angRight:\n",
    "        for val2 in angLeft:\n",
    "            ang = (val2-val)/2\n",
    "            braidAngle.append(ang)\n",
    "    \n",
    "    # creates a list of all the angles of the lines as compared to the vertical since this is another way to find the braid angle\n",
    "    # this method does not as neatly account for slight variations in the angle the picture was taken\n",
    "    braidAngleVert = []\n",
    "    for val in angRight:\n",
    "        ang = 90 - val\n",
    "        braidAngleVert.append(ang)\n",
    "    for val in angLeft:\n",
    "        ang = val - 90\n",
    "        braidAngleVert.append(ang)\n",
    "\n",
    "    braidAngle = np.array(braidAngle)\n",
    "    braidAngleVert = np.array(braidAngleVert)\n",
    "    # finds the mean of both of the lists and then adds it to the overall list of angles for each image\n",
    "    braidAngleAvg = np.mean(braidAngle)\n",
    "    braidAngleVertAvg = np.mean(braidAngleVert)\n",
    "    \n",
    "    braidAngles.append(braidAngleAvg)\n",
    "    braidAnglesVert.append(braidAngleVertAvg)\n",
    "\n",
    "braidAngles = np.array(braidAngles)\n",
    "braidAnglesVert = np.array(braidAnglesVert)"
   ]
  },
  {
   "cell_type": "code",
   "execution_count": 28,
   "id": "13bfd9f2",
   "metadata": {},
   "outputs": [
    {
     "data": {
      "text/plain": [
       "array([38.83111302, 36.77573823, 39.43335994, 35.30726257, 34.44134078,\n",
       "       39.65782123, 36.49687808, 37.26955307, 39.10614525, 39.72067039])"
      ]
     },
     "execution_count": 28,
     "metadata": {},
     "output_type": "execute_result"
    }
   ],
   "source": [
    "braidAnglesVert"
   ]
  },
  {
   "cell_type": "code",
   "execution_count": 29,
   "id": "85bebb16",
   "metadata": {},
   "outputs": [
    {
     "data": {
      "image/png": "[encoded data removed]",
      "text/plain": [
       "<Figure size 432x288 with 1 Axes>"
      ]
     },
     "metadata": {
      "needs_background": "light"
     },
     "output_type": "display_data"
    }
   ],
   "source": [
    "import matplotlib.pyplot as plt # load in the plot ability for data visualization\n",
    "\n",
    "x = crop_names # easier to define the variables for plotting\n",
    "y = braidAngles\n",
    "z = braidAnglesVert\n",
    "\n",
    "ax = plt.gca() #enables plotting on same graph\n",
    "\n",
    "# plotting points as a scatter plot\n",
    "plt.scatter(x, y, label= \"B/t Lines\", color= \"red\",\n",
    "            marker= \"*\", s=30)\n",
    "plt.scatter(x, z, label= \"From Vertical\", color= \"blue\",\n",
    "            marker= \".\", s=30)\n",
    "\n",
    "#rotate x ticks for legibility\n",
    "plt.xticks(rotation=45)\n",
    "# x-axis label\n",
    "plt.xlabel('Image Name')\n",
    "# y-axis label\n",
    "plt.ylabel('Braid Angle (deg)')\n",
    "#create legend to label points\n",
    "ax.legend()\n",
    "# plot title\n",
    "plt.title('Braid Angles for FAM')\n",
    " \n",
    "# function to show the plot and save it to the current directory\n",
    "plt.savefig('Braid Angles for FAM.png', bbox_inches='tight')\n",
    "plt.show()"
   ]
  },
  {
   "cell_type": "code",
   "execution_count": 32,
   "id": "a6f6d460",
   "metadata": {},
   "outputs": [],
   "source": [
    "#write data to CSV file for later use if user desires\n",
    "import csv\n",
    "\n",
    "filename = 'braid_angles.csv' # defines a file name for writing to\n",
    "\n",
    "#compile data using zip function\n",
    "rows = zip(crop_names, braidAngles, braidAnglesVert)\n",
    "\n",
    "with open(filename, 'w') as csvfile: #open and write data to csv file\n",
    "    csvwriter = csv.writer(csvfile)\n",
    "    csvwriter.writerow(['Image Name', 'Braid Angle between Lines (deg)', 'Braid Angle from Vertical (deg)']) #creates column labels\n",
    "    csvwriter.writerows(rows)\n",
    "csvfile.close()"
   ]
  },
  {
   "cell_type": "code",
   "execution_count": null,
   "id": "32ece07c",
   "metadata": {},
   "outputs": [],
   "source": []
  }
 ],
 "metadata": {
  "kernelspec": {
   "display_name": "Python 3",
   "language": "python",
   "name": "python3"
  },
  "language_info": {
   "codemirror_mode": {
    "name": "ipython",
    "version": 3
   },
   "file_extension": ".py",
   "mimetype": "text/x-python",
   "name": "python",
   "nbconvert_exporter": "python",
   "pygments_lexer": "ipython3",
   "version": "3.8.8"
  }
 },
 "nbformat": 4,
 "nbformat_minor": 5
}
