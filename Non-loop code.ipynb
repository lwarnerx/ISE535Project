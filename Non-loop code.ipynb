{
 "cells": [
  {
   "cell_type": "code",
   "execution_count": 1,
   "id": "13a1b854",
   "metadata": {},
   "outputs": [],
   "source": [
    "from skimage.transform import (hough_line, hough_line_peaks)\n",
    "import numpy as np\n",
    "import cv2\n",
    "from statistics import mean"
   ]
  },
  {
   "cell_type": "code",
   "execution_count": 2,
   "id": "2a800923",
   "metadata": {},
   "outputs": [],
   "source": [
    "croppedImage = r'./cropped_images/DSC_0637_cropped.jpg'\n",
    "\n",
    "img_gray = cv2.imread(croppedImage) #image is already grayscale, read into python with open cv\n",
    "img_blur = cv2.GaussianBlur(img_gray, (3,3), 0) #perform a gaussian blur to help for edge detection, this smooths the edges"
   ]
  },
  {
   "cell_type": "code",
   "execution_count": 11,
   "id": "dd3f88b6",
   "metadata": {},
   "outputs": [
    {
     "data": {
      "text/plain": [
       "-1"
      ]
     },
     "execution_count": 11,
     "metadata": {},
     "output_type": "execute_result"
    }
   ],
   "source": [
    "# Sobel Edge Detection\n",
    "# sobel edge detection uses a 2D derivative mask to detect the edges in an image, both vertical and horizontal masks are used\n",
    "# for the purposes of better identitfying the angles, ddepth is the desired depth of the destination image.\n",
    "\n",
    "sobelxy = cv2.Sobel(src=img_blur, ddepth=cv2.CV_64F, dx=1, dy=1, ksize=5) # Combined X and Y Sobel Edge Detection\n",
    "# Display Sobel Edge Detection Images\n",
    "cv2.imshow('Sobel X Y using Sobel() function', sobelxy)\n",
    "cv2.waitKey(0)"
   ]
  },
  {
   "cell_type": "code",
   "execution_count": 4,
   "id": "681969ad",
   "metadata": {},
   "outputs": [
    {
     "data": {
      "text/plain": [
       "[33.687150837988824,\n",
       " -33.687150837988824,\n",
       " -26.648044692737443,\n",
       " 26.64804469273743,\n",
       " 23.631284916201107,\n",
       " -23.63128491620112,\n",
       " 18.60335195530725,\n",
       " -19.60893854748604,\n",
       " 14.581005586592168,\n",
       " -13.575418994413418,\n",
       " -16.592178770949722,\n",
       " -8.547486033519558,\n",
       " -10.5586592178771,\n",
       " -3.5195530726257,\n",
       " 6.536312849162005,\n",
       " 4.525139664804464,\n",
       " -44.7486033519553,\n",
       " -0.5027932960893948,\n",
       " -45.75418994413408,\n",
       " -54.80446927374302,\n",
       " -57.821229050279335,\n",
       " -60.83798882681564,\n",
       " 66.87150837988825,\n",
       " -67.87709497206704,\n",
       " -72.9050279329609,\n",
       " 72.90502793296088,\n",
       " 75.92178770949721,\n",
       " 76.92737430167597,\n",
       " -78.93854748603351,\n",
       " -76.92737430167597,\n",
       " -84.97206703910614,\n",
       " 90.0,\n",
       " 86.98324022346368,\n",
       " -86.98324022346368,\n",
       " -90.0,\n",
       " -88.99441340782121]"
      ]
     },
     "execution_count": 4,
     "metadata": {},
     "output_type": "execute_result"
    }
   ],
   "source": [
    "from skimage.transform import (hough_line, hough_line_peaks)\n",
    "import numpy as np\n",
    "import cv2\n",
    "\n",
    "# Compute arithmetic mean for the hough transformation\n",
    "image = np.mean(sobelxy, axis=2)\n",
    "\n",
    "# Perform Hough Transformation to detect lines\n",
    "hspace, angles, distances = hough_line(image) #hough transform can be used to detect straight lines and their angles\n",
    "#transforms into polar coordinates with a rho and a theta\n",
    "\n",
    "# Find angle using a function that identifies peaks in the hough transform, finds prominent lines and saves the angles\n",
    "angle=[]\n",
    "for _, a , dist in zip(*hough_line_peaks(hspace, angles, distances)):\n",
    "    angle.append(a)\n",
    "\n",
    "# Obtain angle in degrees for each line\n",
    "angles = [a*180/np.pi for a in angle]\n",
    "\n",
    "angles"
   ]
  },
  {
   "cell_type": "code",
   "execution_count": 5,
   "id": "29aa7110",
   "metadata": {},
   "outputs": [],
   "source": [
    "from statistics import mean\n",
    "#change negative angle outputs to their positive counterpart, angles measured from counterclockwise between -90 and 90\n",
    "angles = [a if (a > 0) else (180 + a) for a in angles]\n",
    "\n",
    "\n",
    "# from prior measurements, it is known that the maximum braid angle is less than 65degrees and the minimum braid \n",
    "# angle is more than 15 degrees, this allows for the creation of the bounds that no angle should be within 15 degrees of 90,\n",
    "# and no angle should be within 25 degrees of 0 or 180\n",
    "\n",
    "# we follow this for the further filtration of the angle outputs, knowing all the images are in the same orientation\n",
    "\n",
    "angles = [a for a in angles if (a > (90+15) or a < (90-15))] #filters out angles close to 90 for min braid angle\n",
    "angles = [a for a in angles if (a < (180-25) and a > (0+25))] #filters out angles close to 0 or 180 for max braid angle\n",
    "\n",
    "angRight = [a for a in angles if a < 90] #collects all the angles on the \"right side\"\n",
    "angLeft = [a for a in angles if a > 90] #collects all the angles on the \"left side\"\n",
    "\n",
    "# creates a list of all the angles between all the lines on the right side and all the lines on the left side to find a list of all\n",
    "# possible angles, the braid angle is half the value\n",
    "braidAngle = []\n",
    "for val in angRight:\n",
    "    for val2 in angLeft:\n",
    "        ang = (val2-val)/2\n",
    "        braidAngle.append(ang)\n",
    "\n",
    "# creates a list of all the angles of the lines as compared to the vertical since this is another way to find the braid angle\n",
    "# this method does not as neatly account for slight variations in the angle the picture was taken\n",
    "braidAngleVert = []\n",
    "for val in angRight:\n",
    "    ang = 90 - val\n",
    "    braidAngleVert.append(ang)\n",
    "for val in angLeft:\n",
    "    ang = val - 90\n",
    "    braidAngleVert.append(ang)\n",
    "\n",
    "braidAngle = np.array(braidAngle)\n",
    "braidAngleVert = np.array(braidAngleVert)\n",
    "# finds the mean of both of the lists and then adds it to the overall list of angles for each image\n",
    "braidAngleAvg = np.mean(braidAngle)\n",
    "braidAngleVertAvg = np.mean(braidAngleVert)"
   ]
  },
  {
   "cell_type": "code",
   "execution_count": 6,
   "id": "f4bee829",
   "metadata": {},
   "outputs": [
    {
     "data": {
      "text/plain": [
       "[33.687150837988824,\n",
       " 146.31284916201116,\n",
       " 153.35195530726256,\n",
       " 26.64804469273743,\n",
       " 135.2513966480447,\n",
       " 134.24581005586592,\n",
       " 125.19553072625698,\n",
       " 122.17877094972067,\n",
       " 119.16201117318437,\n",
       " 66.87150837988825,\n",
       " 112.12290502793296,\n",
       " 107.0949720670391,\n",
       " 72.90502793296088]"
      ]
     },
     "execution_count": 6,
     "metadata": {},
     "output_type": "execute_result"
    }
   ],
   "source": [
    "angles"
   ]
  },
  {
   "cell_type": "code",
   "execution_count": 8,
   "id": "c845bafc",
   "metadata": {},
   "outputs": [
    {
     "data": {
      "text/plain": [
       "38.831113021057156"
      ]
     },
     "execution_count": 8,
     "metadata": {},
     "output_type": "execute_result"
    }
   ],
   "source": [
    "braidAngleVertAvg"
   ]
  },
  {
   "cell_type": "code",
   "execution_count": 9,
   "id": "1c75b9c9",
   "metadata": {},
   "outputs": [
    {
     "data": {
      "text/plain": [
       "39.14804469273744"
      ]
     },
     "execution_count": 9,
     "metadata": {},
     "output_type": "execute_result"
    }
   ],
   "source": [
    "braidAngleAvg"
   ]
  },
  {
   "cell_type": "code",
   "execution_count": null,
   "id": "a43d1a56",
   "metadata": {},
   "outputs": [],
   "source": []
  }
 ],
 "metadata": {
  "kernelspec": {
   "display_name": "Python 3",
   "language": "python",
   "name": "python3"
  },
  "language_info": {
   "codemirror_mode": {
    "name": "ipython",
    "version": 3
   },
   "file_extension": ".py",
   "mimetype": "text/x-python",
   "name": "python",
   "nbconvert_exporter": "python",
   "pygments_lexer": "ipython3",
   "version": "3.8.8"
  }
 },
 "nbformat": 4,
 "nbformat_minor": 5
}
